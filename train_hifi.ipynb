{
 "cells": [
  {
   "cell_type": "code",
   "execution_count": 12,
   "metadata": {},
   "outputs": [],
   "source": [
    "import torch\n",
    "import torch.nn as nn\n",
    "\n",
    "from disk_utils import save_model, load_model\n",
    "from audio_dataset import build_audio_data_loaders\n",
    "from models.hifi_dil import Generator_HiFi_Dil, Discriminator_HiFi_Dil"
   ]
  },
  {
   "cell_type": "code",
   "execution_count": 8,
   "metadata": {},
   "outputs": [],
   "source": [
    "test_size = 0.05\n",
    "train_dl, test_dl = build_audio_data_loaders(test_size=test_size)"
   ]
  },
  {
   "cell_type": "code",
   "execution_count": 14,
   "metadata": {},
   "outputs": [],
   "source": [
    "device = torch.device(\"cuda\" if torch.cuda.is_available() else \"cpu\")\n",
    "cpu = torch.device(\"cpu\")\n",
    "adversarial_criterion = nn.BCEWithLogitsLoss()\n",
    "\n",
    "generator = Generator_HiFi_Dil().to(device)\n",
    "discriminator = Discriminator_HiFi_Dil().to(device)\n",
    "\n",
    "optimizer_g = torch.optim.Adam(generator.parameters(), lr=1e-4)\n",
    "optimizer_d = torch.optim.Adam(discriminator.parameters(), lr=1e-4)"
   ]
  },
  {
   "cell_type": "code",
   "execution_count": 10,
   "metadata": {},
   "outputs": [],
   "source": [
    "num_epochs = 1"
   ]
  },
  {
   "cell_type": "code",
   "execution_count": null,
   "metadata": {},
   "outputs": [],
   "source": [
    "history = {\n",
    "    \"gen\": [],\n",
    "    \"disc\": []\n",
    "}\n",
    "\n",
    "for epoch in range(num_epochs):\n",
    "    epoch_gen_loss = 0.0\n",
    "    epoch_disc_loss = 0.0\n",
    "    num_batches = 0\n",
    "\n",
    "    for X, Y, _, _ in train_dl:\n",
    "        X = X.to(device)\n",
    "        Y = Y.to(device)\n",
    "\n",
    "        optimizer_d.zero_grad()\n",
    "\n",
    "        generated_audio = generator(X)\n",
    "        real_out = discriminator(Y)\n",
    "        fake_out = discriminator(generated_audio.detach())\n",
    "\n",
    "        d_loss = adversarial_criterion(\n",
    "            real_out - fake_out, torch.ones_like(real_out))\n",
    "\n",
    "        epoch_disc_loss += d_loss.item()\n",
    "\n",
    "        d_loss.backward()\n",
    "        optimizer_d.step()\n",
    "\n",
    "        optimizer_g.zero_grad()\n",
    "\n",
    "        gen_out = discriminator(generated_audio)\n",
    "        g_loss = adversarial_criterion(gen_out, torch.ones_like(gen_out))\n",
    "\n",
    "        epoch_gen_loss += g_loss.item()\n",
    "\n",
    "        g_loss.backward()\n",
    "        optimizer_g.step()\n",
    "        num_batches += 1\n",
    "        if num_batches % 100 == 0:\n",
    "            print(f\" - {num_batches}\\t D: {d_loss.item():.6f}\\t G: {g_loss.item():.6f}\")\n",
    "\n",
    "    epoch_disc_loss /= num_batches\n",
    "    epoch_gen_loss /= num_batches\n",
    "    history[\"disc\"].append(epoch_disc_loss)\n",
    "    history[\"gen\"].append(epoch_gen_loss)\n",
    "    print(f\"E [{epoch}]\\t D: {epoch_disc_loss:.6f}\\t G: {epoch_gen_loss:.6f}\")"
   ]
  },
  {
   "cell_type": "code",
   "execution_count": 13,
   "metadata": {},
   "outputs": [],
   "source": [
    "generator.to(cpu)\n",
    "discriminator.to(cpu)\n",
    "\n",
    "save_model(generator, \"higi_gen\")\n",
    "save_model(discriminator, \"higi_disc\")"
   ]
  },
  {
   "cell_type": "code",
   "execution_count": null,
   "metadata": {},
   "outputs": [],
   "source": []
  }
 ],
 "metadata": {
  "kernelspec": {
   "display_name": "mlenv",
   "language": "python",
   "name": "python3"
  },
  "language_info": {
   "codemirror_mode": {
    "name": "ipython",
    "version": 3
   },
   "file_extension": ".py",
   "mimetype": "text/x-python",
   "name": "python",
   "nbconvert_exporter": "python",
   "pygments_lexer": "ipython3",
   "version": "3.12.2"
  }
 },
 "nbformat": 4,
 "nbformat_minor": 2
}
