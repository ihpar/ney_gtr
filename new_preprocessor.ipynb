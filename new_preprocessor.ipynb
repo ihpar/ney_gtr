{
 "cells": [
  {
   "cell_type": "code",
   "execution_count": 1,
   "metadata": {},
   "outputs": [],
   "source": [
    "import pickle\n",
    "import librosa\n",
    "import numpy as np\n",
    "import librosa.display\n",
    "import IPython.display as ipd\n",
    "import matplotlib.pyplot as plt\n",
    "from pathlib import Path, PurePath"
   ]
  },
  {
   "cell_type": "code",
   "execution_count": 2,
   "metadata": {},
   "outputs": [],
   "source": [
    "NEY_WAV_DIR = \"dataset/ney/\"\n",
    "GTR_WAV_DIR = \"dataset/ac_gtr/\"\n",
    "NEY_FEATURE_DIR = \"dataset/features/ney/\"\n",
    "GTR_FEATURE_DIR = \"dataset/features/ac_gtr/\"\n",
    "\n",
    "SR = 48000\n",
    "N_FFT = 512\n",
    "HOP = 64\n",
    "WINDOW_SAMPLE_LEN = 2 ** 14 - HOP\n",
    "SIGNAL_HOP = 2 ** 10"
   ]
  },
  {
   "cell_type": "code",
   "execution_count": 3,
   "metadata": {},
   "outputs": [],
   "source": [
    "ney_wav_files = sorted(\n",
    "    [NEY_WAV_DIR + f.name for f in Path(NEY_WAV_DIR).rglob(\"*.wav\")])\n",
    "gtr_wav_files = sorted(\n",
    "    [GTR_WAV_DIR + f.name for f in Path(GTR_WAV_DIR).rglob(\"*.wav\")])"
   ]
  },
  {
   "cell_type": "code",
   "execution_count": 4,
   "metadata": {},
   "outputs": [],
   "source": [
    "def preprocess_wav_file(file_path, sr=48000, n_fft=512, hop=64,\n",
    "                        signal_hop=1024, window_len=16320):\n",
    "    \"\"\"\n",
    "    Takes a wav file path as arg and splits into chunks of WINDOW_SAMPLE_LEN\n",
    "    with overlap of WINDOW_SLIDE_MARGIN.\n",
    "    \"\"\"\n",
    "    signal, _ = librosa.load(file_path, mono=True, sr=sr)\n",
    "    signal_len = len(signal)\n",
    "    result = {\n",
    "        \"file_path\": file_path,\n",
    "        \"chunks\": []\n",
    "    }\n",
    "    i = 0\n",
    "    while True:\n",
    "        start = i * signal_hop\n",
    "        end = start + window_len\n",
    "        if end >= signal_len:\n",
    "            break\n",
    "\n",
    "        window = signal[start: end]\n",
    "        stft = librosa.stft(window, n_fft=n_fft, hop_length=hop)[:-1]\n",
    "        # extract abs and angle\n",
    "        abs_part = np.abs(stft)\n",
    "        angle_part = np.angle(stft)\n",
    "        real_part = np.real(stft)\n",
    "        imag_part = np.imag(stft)\n",
    "        result[\"chunks\"].append({\n",
    "            \"start\": start,\n",
    "            \"end\": end,\n",
    "            \"abs\": abs_part,\n",
    "            \"angle\": angle_part,\n",
    "            \"real\": real_part,\n",
    "            \"imag\": imag_part,\n",
    "            \"signal\": window\n",
    "        })\n",
    "        i += 1\n",
    "\n",
    "    return result"
   ]
  },
  {
   "cell_type": "code",
   "execution_count": 5,
   "metadata": {},
   "outputs": [
    {
     "name": "stdout",
     "output_type": "stream",
     "text": [
      "84\n",
      "(256, 256)\n",
      "(256, 256)\n",
      "(256, 256)\n",
      "(256, 256)\n",
      "(16320,)\n"
     ]
    }
   ],
   "source": [
    "result = preprocess_wav_file(\"dataset/ney/00_Ney_C_3.wav\")\n",
    "print(len(result[\"chunks\"]))\n",
    "print(result[\"chunks\"][0][\"abs\"].shape)\n",
    "print(result[\"chunks\"][0][\"angle\"].shape)\n",
    "print(result[\"chunks\"][0][\"real\"].shape)\n",
    "print(result[\"chunks\"][0][\"imag\"].shape)\n",
    "print(result[\"chunks\"][0][\"signal\"].shape)"
   ]
  },
  {
   "cell_type": "code",
   "execution_count": 6,
   "metadata": {},
   "outputs": [],
   "source": [
    "def save_preprocessed_dataset(file_list, target_dir):\n",
    "    \"\"\"\n",
    "    Processes all wav files in file_list arg.\n",
    "    Saves the preprocessed files in respective directories\n",
    "    \"\"\"\n",
    "    min_max = {\n",
    "        \"min\": {\n",
    "            \"abs\": np.inf,\n",
    "            \"angle\": np.inf,\n",
    "            \"real\": np.inf,\n",
    "            \"imag\": np.inf,\n",
    "            \"signal\": np.inf\n",
    "        },\n",
    "        \"max\": {\n",
    "            \"abs\": -np.inf,\n",
    "            \"angle\": -np.inf,\n",
    "            \"real\": -np.inf,\n",
    "            \"imag\": -np.inf,\n",
    "            \"signal\": -np.inf\n",
    "        }\n",
    "    }\n",
    "    for file_path in file_list:\n",
    "        result = preprocess_wav_file(file_path)\n",
    "        file_stem = Path(result[\"file_path\"]).stem\n",
    "        new_dir_path = PurePath(target_dir, file_stem)\n",
    "        p = Path(new_dir_path)\n",
    "        p.mkdir(parents=True, exist_ok=True)\n",
    "        i = 0\n",
    "        for chunk in result[\"chunks\"]:\n",
    "            chunk_name = f\"chunk_{i}\"\n",
    "            min_abs, max_abs = np.min(chunk[\"abs\"]), np.max(chunk[\"abs\"])\n",
    "            min_ang, max_ang = np.min(chunk[\"angle\"]), np.max(chunk[\"angle\"])\n",
    "            min_real, max_real = np.min(chunk[\"real\"]), np.max(chunk[\"real\"])\n",
    "            min_imag, max_imag = np.min(chunk[\"imag\"]), np.max(chunk[\"imag\"])\n",
    "            min_sig, max_sig = np.min(chunk[\"signal\"]), np.max(chunk[\"signal\"])\n",
    "\n",
    "            if min_abs < min_max[\"min\"][\"abs\"]:\n",
    "                min_max[\"min\"][\"abs\"] = min_abs\n",
    "            if max_abs > min_max[\"max\"][\"abs\"]:\n",
    "                min_max[\"max\"][\"abs\"] = max_abs\n",
    "\n",
    "            if min_ang < min_max[\"min\"][\"angle\"]:\n",
    "                min_max[\"min\"][\"angle\"] = min_ang\n",
    "            if max_ang > min_max[\"max\"][\"angle\"]:\n",
    "                min_max[\"max\"][\"angle\"] = max_ang\n",
    "\n",
    "            if min_real < min_max[\"min\"][\"real\"]:\n",
    "                min_max[\"min\"][\"real\"] = min_real\n",
    "            if max_real > min_max[\"max\"][\"real\"]:\n",
    "                min_max[\"max\"][\"real\"] = max_real\n",
    "\n",
    "            if min_imag < min_max[\"min\"][\"imag\"]:\n",
    "                min_max[\"min\"][\"imag\"] = min_imag\n",
    "            if max_imag > min_max[\"max\"][\"imag\"]:\n",
    "                min_max[\"max\"][\"imag\"] = max_imag\n",
    "            \n",
    "            if min_sig < min_max[\"min\"][\"signal\"]:\n",
    "                min_max[\"min\"][\"signal\"] = min_sig\n",
    "            if max_sig > min_max[\"max\"][\"signal\"]:\n",
    "                min_max[\"max\"][\"signal\"] = max_sig\n",
    "\n",
    "            chunk_path = PurePath(new_dir_path, chunk_name)\n",
    "            with open(chunk_path, \"wb\") as handle:\n",
    "                pickle.dump(chunk, handle)\n",
    "            i += 1\n",
    "            \n",
    "    return min_max"
   ]
  },
  {
   "cell_type": "code",
   "execution_count": 7,
   "metadata": {},
   "outputs": [],
   "source": [
    "min_max_ney = save_preprocessed_dataset(ney_wav_files, NEY_FEATURE_DIR)\n",
    "min_max_gtr = save_preprocessed_dataset(gtr_wav_files, GTR_FEATURE_DIR)"
   ]
  },
  {
   "cell_type": "code",
   "execution_count": 8,
   "metadata": {},
   "outputs": [
    {
     "name": "stdout",
     "output_type": "stream",
     "text": [
      "{'ney': {'min': {'abs': 1.6169622e-07, 'angle': -3.1415923, 'real': -103.57541, 'imag': -101.308266, 'signal': -0.8600464}, 'max': {'abs': 104.15079, 'angle': 3.1415925, 'real': 92.45073, 'imag': 97.06866, 'signal': 0.9161682}}, 'gtr': {'min': {'abs': 1.05075486e-07, 'angle': -3.1415925, 'real': -89.06632, 'imag': -95.478455, 'signal': -0.73135376}, 'max': {'abs': 96.51824, 'angle': 3.1415925, 'real': 96.095795, 'imag': 90.098434, 'signal': 0.9884949}}}\n"
     ]
    }
   ],
   "source": [
    "min_max = {\n",
    "    \"ney\": min_max_ney,\n",
    "    \"gtr\": min_max_gtr\n",
    "}\n",
    "\n",
    "with open(\"dataset/features/min_max.pkl\", \"wb\") as handle:\n",
    "    pickle.dump(min_max, handle)\n",
    "    print(min_max)"
   ]
  },
  {
   "cell_type": "code",
   "execution_count": null,
   "metadata": {},
   "outputs": [],
   "source": []
  }
 ],
 "metadata": {
  "kernelspec": {
   "display_name": "mlenv",
   "language": "python",
   "name": "python3"
  },
  "language_info": {
   "codemirror_mode": {
    "name": "ipython",
    "version": 3
   },
   "file_extension": ".py",
   "mimetype": "text/x-python",
   "name": "python",
   "nbconvert_exporter": "python",
   "pygments_lexer": "ipython3",
   "version": "3.12.2"
  }
 },
 "nbformat": 4,
 "nbformat_minor": 2
}
