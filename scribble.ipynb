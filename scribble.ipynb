{
 "cells": [
  {
   "cell_type": "code",
   "execution_count": 13,
   "metadata": {},
   "outputs": [],
   "source": [
    "import pickle\n",
    "import librosa\n",
    "import numpy as np\n",
    "from constants import *\n",
    "import IPython.display as ipd\n",
    "import matplotlib.pyplot as plt\n",
    "from pathlib import Path, PurePath"
   ]
  },
  {
   "cell_type": "code",
   "execution_count": 10,
   "metadata": {},
   "outputs": [],
   "source": [
    "with open(\"dataset/features/ney/00_Ney_C_3/chunk_0\", \"rb\") as f:\n",
    "    chunk = pickle.load(f)"
   ]
  },
  {
   "cell_type": "code",
   "execution_count": 11,
   "metadata": {},
   "outputs": [
    {
     "name": "stdout",
     "output_type": "stream",
     "text": [
      "(512, 152)\n",
      "(512, 152)\n"
     ]
    }
   ],
   "source": [
    "real_part = chunk[\"stft-data\"][0]\n",
    "imag_part = chunk[\"stft-data\"][1]\n",
    "print(real_part.shape)\n",
    "print(imag_part.shape)"
   ]
  },
  {
   "cell_type": "code",
   "execution_count": 12,
   "metadata": {},
   "outputs": [
    {
     "name": "stdout",
     "output_type": "stream",
     "text": [
      "-101.486046 102.964\n",
      "-101.56158 104.188644\n"
     ]
    }
   ],
   "source": [
    "print(np.min(real_part), np.max(real_part))\n",
    "print(np.min(imag_part), np.max(imag_part))"
   ]
  },
  {
   "cell_type": "code",
   "execution_count": 15,
   "metadata": {},
   "outputs": [],
   "source": [
    "ney_feature_dirs = sorted(\n",
    "    [f for f in Path(NEY_FEATURE_DIR).iterdir() if f.is_dir()])\n",
    "gtr_feature_dirs = sorted(\n",
    "    [f for f in Path(GTR_FEATURE_DIR).iterdir() if f.is_dir()])"
   ]
  },
  {
   "cell_type": "code",
   "execution_count": 20,
   "metadata": {},
   "outputs": [
    {
     "name": "stdout",
     "output_type": "stream",
     "text": [
      "-183.62209 193.19405\n",
      "-186.0587 184.48245\n",
      "-161.3654 166.60832\n",
      "-166.61542 161.6513\n"
     ]
    }
   ],
   "source": [
    "def print_min_max(feature_dirs):\n",
    "    min_real_val, max_real_val = 0, 0\n",
    "    min_imag_val, max_imag_val = 0, 0\n",
    "    for dir_path in feature_dirs:\n",
    "        sorted_files = sorted(list(Path(dir_path).iterdir()),\n",
    "                                key=lambda x: int(x.stem.split(\"_\")[1]))\n",
    "        for file_path in sorted_files:\n",
    "            with open(file_path, \"rb\") as f:\n",
    "                chunk = pickle.load(f)\n",
    "                real_part = chunk[\"stft-data\"][0]\n",
    "                if min_real_val > np.min(real_part):\n",
    "                    min_real_val = np.min(real_part) \n",
    "                if max_real_val < np.max(real_part):\n",
    "                    max_real_val = np.max(real_part) \n",
    "\n",
    "                imag_part = chunk[\"stft-data\"][1]\n",
    "                if min_imag_val > np.min(imag_part):\n",
    "                    min_imag_val = np.min(imag_part) \n",
    "                if max_imag_val < np.max(imag_part):\n",
    "                    max_imag_val = np.max(imag_part) \n",
    "\n",
    "    print(min_real_val, max_real_val)\n",
    "    print(min_imag_val, max_imag_val)\n",
    "\n",
    "print_min_max(ney_feature_dirs)\n",
    "print_min_max(gtr_feature_dirs)"
   ]
  },
  {
   "cell_type": "code",
   "execution_count": null,
   "metadata": {},
   "outputs": [],
   "source": []
  }
 ],
 "metadata": {
  "kernelspec": {
   "display_name": "mlenv",
   "language": "python",
   "name": "python3"
  },
  "language_info": {
   "codemirror_mode": {
    "name": "ipython",
    "version": 3
   },
   "file_extension": ".py",
   "mimetype": "text/x-python",
   "name": "python",
   "nbconvert_exporter": "python",
   "pygments_lexer": "ipython3",
   "version": "3.12.2"
  }
 },
 "nbformat": 4,
 "nbformat_minor": 2
}
