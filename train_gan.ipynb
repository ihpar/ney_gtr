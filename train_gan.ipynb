{
 "cells": [
  {
   "cell_type": "code",
   "execution_count": null,
   "metadata": {},
   "outputs": [],
   "source": [
    "import pickle\n",
    "import soundfile as sf\n",
    "import IPython.display as ipd\n",
    "\n",
    "import torch\n",
    "import torch.nn as nn\n",
    "import torch.optim as optim\n",
    "from models.unet_gen import UNetGenerator\n",
    "from models.patch_gan_discriminator import PatchGANDiscriminator\n",
    "\n",
    "from constants import *\n",
    "from train_cgan import train_cgan\n",
    "from polar_dataset import build_data_loaders\n",
    "from disk_utils import save_model, load_model\n",
    "from predict import predict_polar, get_phases, make_wav\n",
    "from plotter import plot_loss, plot_heatmaps, plot_waves"
   ]
  },
  {
   "cell_type": "code",
   "execution_count": null,
   "metadata": {},
   "outputs": [],
   "source": [
    "part = \"magnitude\"\n",
    "USE_GPU = True\n",
    "num_epochs = 20\n",
    "test_size = 0.1\n",
    "device = torch.device(\"cuda\" if torch.cuda.is_available() and USE_GPU\n",
    "                      else \"cpu\")\n",
    "if not USE_GPU:\n",
    "    num_epochs = 1"
   ]
  },
  {
   "cell_type": "code",
   "execution_count": null,
   "metadata": {},
   "outputs": [],
   "source": [
    "with open(\"dataset/features/min_max.pkl\", \"rb\") as handle:\n",
    "    min_max = pickle.load(handle)\n",
    "\n",
    "train_data_loader, test_data_loader = build_data_loaders(\n",
    "    min_max, part=\"magnitude\", test_size=test_size)"
   ]
  },
  {
   "cell_type": "code",
   "execution_count": null,
   "metadata": {},
   "outputs": [],
   "source": [
    "generator = UNetGenerator(in_channels=1, out_channels=1).to(device)\n",
    "discriminator = PatchGANDiscriminator(in_channels=2).to(device)\n",
    "\n",
    "adversarial_loss = nn.BCELoss()\n",
    "l1_loss = nn.L1Loss()\n",
    "\n",
    "lr = 2e-4\n",
    "optimizer_G = optim.Adam(generator.parameters(),\n",
    "                         lr=lr, betas=(0.5, 0.999))\n",
    "optimizer_D = optim.Adam(discriminator.parameters(),\n",
    "                         lr=lr, betas=(0.5, 0.999))"
   ]
  },
  {
   "cell_type": "code",
   "execution_count": null,
   "metadata": {},
   "outputs": [],
   "source": [
    "train_cgan(device, train_data_loader, generator,\n",
    "           discriminator, adversarial_loss, l1_loss,\n",
    "           optimizer_G, optimizer_D, num_epochs)"
   ]
  },
  {
   "cell_type": "code",
   "execution_count": null,
   "metadata": {},
   "outputs": [],
   "source": [
    "generator.to(torch.device(\"cpu\"))\n",
    "discriminator.to(torch.device(\"cpu\"))"
   ]
  },
  {
   "cell_type": "code",
   "execution_count": null,
   "metadata": {},
   "outputs": [],
   "source": [
    "torch.cuda.empty_cache()\n",
    "del generator\n",
    "del discriminator"
   ]
  },
  {
   "cell_type": "code",
   "execution_count": null,
   "metadata": {},
   "outputs": [],
   "source": [
    "pred_limit = 32\n",
    "predictions, targets = predict_polar(\n",
    "    generator,\n",
    "    test_data_loader,\n",
    "    min_max[\"ney\"][\"min\"][part],\n",
    "    min_max[\"ney\"][\"max\"][part],\n",
    "    limit=pred_limit,\n",
    "    from_db=False)"
   ]
  },
  {
   "cell_type": "code",
   "execution_count": null,
   "metadata": {},
   "outputs": [],
   "source": [
    "plot_heatmaps(predictions[0], targets[0])"
   ]
  },
  {
   "cell_type": "code",
   "execution_count": null,
   "metadata": {},
   "outputs": [],
   "source": [
    "_, test_data_loader_phase = build_data_loaders(\n",
    "    min_max, part=\"phase\", test_size=test_size)\n",
    "phases = get_phases(test_data_loader_phase,\n",
    "                    instrument=\"ney\",\n",
    "                    limit=pred_limit)"
   ]
  },
  {
   "cell_type": "code",
   "execution_count": null,
   "metadata": {},
   "outputs": [],
   "source": [
    "plot_heatmaps(phases[0], phases[0])"
   ]
  },
  {
   "cell_type": "code",
   "execution_count": null,
   "metadata": {},
   "outputs": [],
   "source": [
    "wave_prediction = make_wav(predictions, phases)\n",
    "wave_target = make_wav(targets, phases)\n",
    "print(len(wave_prediction), len(wave_target))\n",
    "plot_waves(wave_target, wave_prediction)"
   ]
  },
  {
   "cell_type": "code",
   "execution_count": null,
   "metadata": {},
   "outputs": [],
   "source": [
    "ipd.Audio(wave_target, rate=SR)"
   ]
  },
  {
   "cell_type": "code",
   "execution_count": null,
   "metadata": {},
   "outputs": [],
   "source": [
    "ipd.Audio(wave_prediction, rate=SR)"
   ]
  },
  {
   "cell_type": "code",
   "execution_count": null,
   "metadata": {},
   "outputs": [],
   "source": [
    "sf.write(\"z_target.wav\", wave_target, SR, format=\"wav\")\n",
    "sf.write(\"z_prediction.wav\", wave_prediction, SR, format=\"wav\")"
   ]
  },
  {
   "cell_type": "code",
   "execution_count": null,
   "metadata": {},
   "outputs": [],
   "source": [
    "save_model(generator, \"generator\")\n",
    "save_model(discriminator, \"discriminator\")"
   ]
  }
 ],
 "metadata": {
  "kernelspec": {
   "display_name": "mlenv",
   "language": "python",
   "name": "python3"
  },
  "language_info": {
   "codemirror_mode": {
    "name": "ipython",
    "version": 3
   },
   "file_extension": ".py",
   "mimetype": "text/x-python",
   "name": "python",
   "nbconvert_exporter": "python",
   "pygments_lexer": "ipython3",
   "version": "3.12.2"
  }
 },
 "nbformat": 4,
 "nbformat_minor": 2
}
