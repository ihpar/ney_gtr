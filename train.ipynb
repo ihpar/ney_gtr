{
 "cells": [
  {
   "cell_type": "code",
   "execution_count": 1,
   "metadata": {},
   "outputs": [],
   "source": [
    "import torch\n",
    "from torch.optim import Adam\n",
    "\n",
    "import pickle\n",
    "import soundfile as sf\n",
    "import IPython.display as ipd\n",
    "\n",
    "from constants import *\n",
    "from train import train_model\n",
    "from early_stopper import EarlyStopper\n",
    "\n",
    "from phase_loss import PhaseLoss\n",
    "from magnitude_loss import MagnitudeLoss\n",
    "\n",
    "from polar_dataset import build_data_loaders\n",
    "from disk_utils import save_model, load_model\n",
    "from plotter import plot_loss, plot_heatmaps, plot_waves\n",
    "from predict import predict_polar, get_phases, make_wav\n",
    "\n",
    "from models.model_18 import Model_18"
   ]
  },
  {
   "cell_type": "code",
   "execution_count": null,
   "metadata": {},
   "outputs": [],
   "source": [
    "USE_GPU = False\n",
    "\n",
    "num_epochs = 250\n",
    "device = torch.device(\"cuda\" if torch.cuda.is_available() else \"cpu\")\n",
    "if not USE_GPU:\n",
    "    device = torch.device(\"cpu\")\n",
    "    num_epochs = 1"
   ]
  },
  {
   "cell_type": "code",
   "execution_count": 2,
   "metadata": {},
   "outputs": [],
   "source": [
    "part = \"magnitude\"\n",
    "with open(\"dataset/features/min_max.pkl\", \"rb\") as handle:\n",
    "    min_max = pickle.load(handle)\n",
    "\n",
    "model = Model_18()\n",
    "\n",
    "train_data_loader, test_data_loader = build_data_loaders(\n",
    "    min_max, part=part, test_size=0.1)\n",
    "\n",
    "criterion = MagnitudeLoss(\n",
    "    min_max[\"ney\"][\"min\"][part],\n",
    "    min_max[\"ney\"][\"max\"][part]\n",
    ")\n",
    "optimizer = Adam(model.parameters(), lr=3e-4)\n",
    "es = EarlyStopper(7, 3e-6)"
   ]
  },
  {
   "cell_type": "code",
   "execution_count": null,
   "metadata": {},
   "outputs": [],
   "source": [
    "model, history = train_model(\n",
    "    model,\n",
    "    criterion,\n",
    "    optimizer,\n",
    "    device,\n",
    "    train_data_loader, test_data_loader,\n",
    "    es,\n",
    "    num_epochs=num_epochs\n",
    ")"
   ]
  },
  {
   "cell_type": "code",
   "execution_count": null,
   "metadata": {},
   "outputs": [],
   "source": [
    "model.to(torch.device(\"cpu\"))"
   ]
  },
  {
   "cell_type": "code",
   "execution_count": null,
   "metadata": {},
   "outputs": [],
   "source": [
    "del model\n",
    "torch.cuda.empty_cache()"
   ]
  },
  {
   "cell_type": "code",
   "execution_count": null,
   "metadata": {},
   "outputs": [],
   "source": [
    "plot_loss(history, \"Loss\", start=0)"
   ]
  },
  {
   "cell_type": "code",
   "execution_count": null,
   "metadata": {},
   "outputs": [],
   "source": [
    "predictions, targets = predict_polar(\n",
    "    model,\n",
    "    test_data_loader,\n",
    "    min_max[\"ney\"][\"min\"][part],\n",
    "    min_max[\"ney\"][\"max\"][part],\n",
    "    limit=12)"
   ]
  },
  {
   "cell_type": "code",
   "execution_count": null,
   "metadata": {},
   "outputs": [],
   "source": [
    "plot_heatmaps(predictions[0], targets[0])"
   ]
  },
  {
   "cell_type": "code",
   "execution_count": null,
   "metadata": {},
   "outputs": [],
   "source": [
    "_, test_data_loader_phase = build_data_loaders(\n",
    "    min_max, part=\"phase\", test_size=0.1)\n",
    "phases = get_phases(test_data_loader_phase, instrument=\"ney\", limit=12)"
   ]
  },
  {
   "cell_type": "code",
   "execution_count": null,
   "metadata": {},
   "outputs": [],
   "source": [
    "plot_heatmaps(phases[0], phases[0])"
   ]
  },
  {
   "cell_type": "code",
   "execution_count": null,
   "metadata": {},
   "outputs": [],
   "source": [
    "wave_prediction = make_wav(predictions, phases)\n",
    "wave_target = make_wav(targets, phases)\n",
    "print(len(wave_prediction), len(wave_target))\n",
    "plot_waves(wave_target, wave_prediction)"
   ]
  },
  {
   "cell_type": "code",
   "execution_count": null,
   "metadata": {},
   "outputs": [],
   "source": [
    "ipd.Audio(wave_target, rate=SR)"
   ]
  },
  {
   "cell_type": "code",
   "execution_count": null,
   "metadata": {},
   "outputs": [],
   "source": [
    "ipd.Audio(wave_prediction, rate=SR)"
   ]
  },
  {
   "cell_type": "code",
   "execution_count": null,
   "metadata": {},
   "outputs": [],
   "source": [
    "sf.write(\"z_target.wav\", wave_target, SR, format=\"wav\")\n",
    "sf.write(\"z_prediction.wav\", wave_prediction, SR, format=\"wav\")"
   ]
  }
 ],
 "metadata": {
  "kernelspec": {
   "display_name": "mlenv",
   "language": "python",
   "name": "python3"
  },
  "language_info": {
   "codemirror_mode": {
    "name": "ipython",
    "version": 3
   },
   "file_extension": ".py",
   "mimetype": "text/x-python",
   "name": "python",
   "nbconvert_exporter": "python",
   "pygments_lexer": "ipython3",
   "version": "3.12.2"
  }
 },
 "nbformat": 4,
 "nbformat_minor": 2
}
